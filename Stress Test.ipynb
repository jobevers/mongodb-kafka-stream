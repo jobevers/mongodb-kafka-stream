{
 "cells": [
  {
   "cell_type": "code",
   "execution_count": 29,
   "metadata": {},
   "outputs": [],
   "source": [
    "import pymongo"
   ]
  },
  {
   "cell_type": "code",
   "execution_count": 30,
   "metadata": {},
   "outputs": [],
   "source": [
    "conn = pymongo.MongoClient('mongodb://localhost:27017/?replicaSet=rs0')"
   ]
  },
  {
   "cell_type": "code",
   "execution_count": 31,
   "metadata": {},
   "outputs": [],
   "source": [
    "db = conn.mirth"
   ]
  },
  {
   "cell_type": "code",
   "execution_count": 32,
   "metadata": {},
   "outputs": [],
   "source": [
    "import random\n",
    "import string"
   ]
  },
  {
   "cell_type": "code",
   "execution_count": 33,
   "metadata": {},
   "outputs": [],
   "source": [
    "collections = {\n",
    "\"rf\",\n",
    "\"adt\",\n",
    "\"lab\",\n",
    "\"ecg\",\n",
    "\"vf\",\n",
    "\"labMuse\",\n",
    "\"nf\",\n",
    "}\n"
   ]
  },
  {
   "cell_type": "code",
   "execution_count": 34,
   "metadata": {},
   "outputs": [],
   "source": [
    "def random_string(n):\n",
    "    return ''.join(random.choice(string.ascii_letters) for _ in range(n))"
   ]
  },
  {
   "cell_type": "code",
   "execution_count": 35,
   "metadata": {},
   "outputs": [],
   "source": [
    "import faker"
   ]
  },
  {
   "cell_type": "code",
   "execution_count": 36,
   "metadata": {},
   "outputs": [],
   "source": [
    "fake = faker.Faker()"
   ]
  },
  {
   "cell_type": "code",
   "execution_count": 37,
   "metadata": {},
   "outputs": [
    {
     "data": {
      "text/plain": [
       "{'job': 'Logistics and distribution manager',\n",
       " 'company': 'Miller and Sons',\n",
       " 'ssn': '492-64-1495',\n",
       " 'residence': '8674 Hammond Centers\\nJonathanton, WA 46992',\n",
       " 'current_location': (Decimal('-77.197449'), Decimal('124.070654')),\n",
       " 'blood_group': 'O-',\n",
       " 'website': ['http://www.garcia.com/',\n",
       "  'http://duke.com/',\n",
       "  'http://aguirre.com/',\n",
       "  'https://west.org/'],\n",
       " 'username': 'jensenpeggy',\n",
       " 'name': 'Jeanette Hart',\n",
       " 'sex': 'F',\n",
       " 'address': '44862 Perez Curve Suite 509\\nSouth Phillipfurt, TN 12215',\n",
       " 'mail': 'kstewart@yahoo.com',\n",
       " 'birthdate': datetime.date(1925, 11, 25)}"
      ]
     },
     "execution_count": 37,
     "metadata": {},
     "output_type": "execute_result"
    }
   ],
   "source": [
    "fake.profile()"
   ]
  },
  {
   "cell_type": "code",
   "execution_count": 38,
   "metadata": {},
   "outputs": [],
   "source": [
    "import time"
   ]
  },
  {
   "cell_type": "code",
   "execution_count": 39,
   "metadata": {},
   "outputs": [],
   "source": [
    "import datetime"
   ]
  },
  {
   "cell_type": "code",
   "execution_count": 40,
   "metadata": {},
   "outputs": [],
   "source": [
    "counter = 1"
   ]
  },
  {
   "cell_type": "code",
   "execution_count": 41,
   "metadata": {},
   "outputs": [],
   "source": [
    "def get_profile():\n",
    "    global counter\n",
    "    profile = fake.profile()\n",
    "    profile['current_location'] = [float(v) for v in profile['current_location']]\n",
    "    profile['birthdate'] = profile['birthdate'].isoformat()\n",
    "    profile['created'] = datetime.datetime.now().isoformat()\n",
    "    profile['counter'] = counter\n",
    "    counter += 1\n",
    "    return profile"
   ]
  },
  {
   "cell_type": "code",
   "execution_count": 42,
   "metadata": {},
   "outputs": [],
   "source": [
    "collections = list(collections)"
   ]
  },
  {
   "cell_type": "code",
   "execution_count": 51,
   "metadata": {},
   "outputs": [],
   "source": [
    "for _ in range(10):\n",
    "    collection = random.choice(collections)\n",
    "    db[collection].insert_one(get_profile())\n",
    "    time.sleep(random.random()*0.001)"
   ]
  },
  {
   "cell_type": "code",
   "execution_count": 48,
   "metadata": {},
   "outputs": [
    {
     "data": {
      "text/plain": [
       "<pymongo.results.DeleteResult at 0x7ff682adbcc8>"
      ]
     },
     "execution_count": 48,
     "metadata": {},
     "output_type": "execute_result"
    }
   ],
   "source": [
    "db[collection].delete_many({})"
   ]
  },
  {
   "cell_type": "code",
   "execution_count": null,
   "metadata": {},
   "outputs": [],
   "source": []
  }
 ],
 "metadata": {
  "kernelspec": {
   "display_name": "Python 3",
   "language": "python",
   "name": "python3"
  },
  "language_info": {
   "codemirror_mode": {
    "name": "ipython",
    "version": 3
   },
   "file_extension": ".py",
   "mimetype": "text/x-python",
   "name": "python",
   "nbconvert_exporter": "python",
   "pygments_lexer": "ipython3",
   "version": "3.6.7"
  }
 },
 "nbformat": 4,
 "nbformat_minor": 2
}
