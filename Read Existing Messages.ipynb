{
 "cells": [
  {
   "cell_type": "code",
   "execution_count": 1,
   "metadata": {},
   "outputs": [],
   "source": [
    "from kafka import KafkaConsumer"
   ]
  },
  {
   "cell_type": "code",
   "execution_count": 16,
   "metadata": {},
   "outputs": [],
   "source": [
    "KafkaConsumer?"
   ]
  },
  {
   "cell_type": "code",
   "execution_count": 17,
   "metadata": {},
   "outputs": [],
   "source": [
    "topics = [\n",
    "    'mongo_mirth_adt',\n",
    "    'mongo_mirth_ecg',\n",
    "    'mongo_mirth_lab',\n",
    "    'mongo_mirth_labMuse',\n",
    "    'mongo_mirth_nf',\n",
    "    'mongo_mirth_rf',\n",
    "    'mongo_mirth_vf'\n",
    "]"
   ]
  },
  {
   "cell_type": "code",
   "execution_count": 18,
   "metadata": {},
   "outputs": [],
   "source": [
    "consumer = KafkaConsumer(*topics, bootstrap_servers='cds-mirthprod01.mountsinai.org:9092')"
   ]
  },
  {
   "cell_type": "code",
   "execution_count": 19,
   "metadata": {},
   "outputs": [],
   "source": [
    "for msg in consumer:\n",
    "    break"
   ]
  },
  {
   "cell_type": "code",
   "execution_count": 22,
   "metadata": {},
   "outputs": [],
   "source": [
    "import json"
   ]
  },
  {
   "cell_type": "code",
   "execution_count": 24,
   "metadata": {},
   "outputs": [],
   "source": [
    "msg_object = json.loads(msg.value)"
   ]
  },
  {
   "cell_type": "code",
   "execution_count": 25,
   "metadata": {},
   "outputs": [
    {
     "data": {
      "text/plain": [
       "{'schema': {'type': 'struct',\n",
       "  'fields': [{'type': 'int32', 'optional': True, 'field': 'timestamp'},\n",
       "   {'type': 'int32', 'optional': True, 'field': 'order'},\n",
       "   {'type': 'string', 'optional': True, 'field': 'operation'},\n",
       "   {'type': 'string', 'optional': True, 'field': 'database'},\n",
       "   {'type': 'string', 'optional': True, 'field': 'object'}],\n",
       "  'optional': False,\n",
       "  'name': 'mongodbschema_mirth_vf'},\n",
       " 'payload': {'timestamp': 1549299229,\n",
       "  'order': 15,\n",
       "  'operation': 'i',\n",
       "  'database': 'mirth.vf',\n",
       "  'object': '{ \"_id\" : { \"$oid\" : \"5c586e1dfb885e92a8f67330\" }, \"recievedDT\" : \"February 4, 2019 11:53:49 AM EST\", \"Recieved_Unix_Time\" : 1549299230, \"Source_Facility\" : \"MSH\", \"MRN\" : \"2811256\", \"Family_Name\" : \"SHAHEED\", \"Given_Name\" : \"WAHEEDAH\", \"Point_of_Care\" : \"450\", \"Room\" : \"\", \"Bed\" : \"\", \"Visit_Number\" : \"52841143\", \"Report_Type\" : \"FLOWSHEET\", \"flowsheet\" : [{ \"Observation_Name\" : \"CAC - BLOOD PRESSURE\", \"Observation_ID\" : \"5\", \"Observation_Result\" : \"127/91\", \"Result_Status\" : \"F\", \"Observation_Time\" : \"20190204115200\", \"Observer_FN\" : \"KSENIYA\", \"Observer_LN\" : \"SEREBRYAKOVA\" }, { \"Observation_Name\" : \"CAC - PULSE\", \"Observation_ID\" : \"8\", \"Observation_Result\" : \"88\", \"Result_Status\" : \"F\", \"Observation_Time\" : \"20190204115200\", \"Observer_FN\" : \"KSENIYA\", \"Observer_LN\" : \"SEREBRYAKOVA\" }, { \"Observation_Name\" : \"CAC - RESPIRATIONS\", \"Observation_ID\" : \"9\", \"Observation_Result\" : \"18\", \"Result_Status\" : \"F\", \"Observation_Time\" : \"20190204115200\", \"Observer_FN\" : \"KSENIYA\", \"Observer_LN\" : \"SEREBRYAKOVA\" }, { \"Observation_Name\" : \"CAC - PULSE OXIMETRY\", \"Observation_ID\" : \"10\", \"Observation_Result\" : \"96\", \"Result_Status\" : \"F\", \"Observation_Time\" : \"20190204115200\", \"Observer_FN\" : \"KSENIYA\", \"Observer_LN\" : \"SEREBRYAKOVA\" }] }'}}"
      ]
     },
     "execution_count": 25,
     "metadata": {},
     "output_type": "execute_result"
    }
   ],
   "source": [
    "msg_object"
   ]
  },
  {
   "cell_type": "code",
   "execution_count": 28,
   "metadata": {},
   "outputs": [
    {
     "data": {
      "text/plain": [
       "{'_id': {'$oid': '5c586e1dfb885e92a8f67330'},\n",
       " 'recievedDT': 'February 4, 2019 11:53:49 AM EST',\n",
       " 'Recieved_Unix_Time': 1549299230,\n",
       " 'Source_Facility': 'MSH',\n",
       " 'MRN': '2811256',\n",
       " 'Family_Name': 'SHAHEED',\n",
       " 'Given_Name': 'WAHEEDAH',\n",
       " 'Point_of_Care': '450',\n",
       " 'Room': '',\n",
       " 'Bed': '',\n",
       " 'Visit_Number': '52841143',\n",
       " 'Report_Type': 'FLOWSHEET',\n",
       " 'flowsheet': [{'Observation_Name': 'CAC - BLOOD PRESSURE',\n",
       "   'Observation_ID': '5',\n",
       "   'Observation_Result': '127/91',\n",
       "   'Result_Status': 'F',\n",
       "   'Observation_Time': '20190204115200',\n",
       "   'Observer_FN': 'KSENIYA',\n",
       "   'Observer_LN': 'SEREBRYAKOVA'},\n",
       "  {'Observation_Name': 'CAC - PULSE',\n",
       "   'Observation_ID': '8',\n",
       "   'Observation_Result': '88',\n",
       "   'Result_Status': 'F',\n",
       "   'Observation_Time': '20190204115200',\n",
       "   'Observer_FN': 'KSENIYA',\n",
       "   'Observer_LN': 'SEREBRYAKOVA'},\n",
       "  {'Observation_Name': 'CAC - RESPIRATIONS',\n",
       "   'Observation_ID': '9',\n",
       "   'Observation_Result': '18',\n",
       "   'Result_Status': 'F',\n",
       "   'Observation_Time': '20190204115200',\n",
       "   'Observer_FN': 'KSENIYA',\n",
       "   'Observer_LN': 'SEREBRYAKOVA'},\n",
       "  {'Observation_Name': 'CAC - PULSE OXIMETRY',\n",
       "   'Observation_ID': '10',\n",
       "   'Observation_Result': '96',\n",
       "   'Result_Status': 'F',\n",
       "   'Observation_Time': '20190204115200',\n",
       "   'Observer_FN': 'KSENIYA',\n",
       "   'Observer_LN': 'SEREBRYAKOVA'}]}"
      ]
     },
     "execution_count": 28,
     "metadata": {},
     "output_type": "execute_result"
    }
   ],
   "source": [
    "json.loads(msg_object['payload']['object'])"
   ]
  },
  {
   "cell_type": "code",
   "execution_count": null,
   "metadata": {},
   "outputs": [],
   "source": []
  }
 ],
 "metadata": {
  "kernelspec": {
   "display_name": "Python 3",
   "language": "python",
   "name": "python3"
  },
  "language_info": {
   "codemirror_mode": {
    "name": "ipython",
    "version": 3
   },
   "file_extension": ".py",
   "mimetype": "text/x-python",
   "name": "python",
   "nbconvert_exporter": "python",
   "pygments_lexer": "ipython3",
   "version": "3.6.7"
  }
 },
 "nbformat": 4,
 "nbformat_minor": 2
}
