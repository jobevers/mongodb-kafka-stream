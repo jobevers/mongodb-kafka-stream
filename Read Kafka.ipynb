{
 "cells": [
  {
   "cell_type": "code",
   "execution_count": 41,
   "metadata": {},
   "outputs": [],
   "source": [
    "import json\n",
    "import itertools\n",
    "import sys"
   ]
  },
  {
   "cell_type": "code",
   "execution_count": 62,
   "metadata": {},
   "outputs": [],
   "source": [
    "from kafka import KafkaConsumer\n",
    "consumer = KafkaConsumer('test')"
   ]
  },
  {
   "cell_type": "code",
   "execution_count": 43,
   "metadata": {},
   "outputs": [],
   "source": [
    "import kafka"
   ]
  },
  {
   "cell_type": "code",
   "execution_count": 44,
   "metadata": {},
   "outputs": [],
   "source": [
    "from kafka import TopicPartition"
   ]
  },
  {
   "cell_type": "code",
   "execution_count": 45,
   "metadata": {},
   "outputs": [],
   "source": [
    "tp = kafka.TopicPartition('test', 0)"
   ]
  },
  {
   "cell_type": "code",
   "execution_count": 20,
   "metadata": {},
   "outputs": [
    {
     "data": {
      "text/plain": [
       "TopicPartition(topic='test', partition=0)"
      ]
     },
     "execution_count": 20,
     "metadata": {},
     "output_type": "execute_result"
    }
   ],
   "source": [
    "TopicPartition('test', 0)"
   ]
  },
  {
   "cell_type": "code",
   "execution_count": null,
   "metadata": {},
   "outputs": [],
   "source": [
    "from kafka import TopicPartition"
   ]
  },
  {
   "cell_type": "code",
   "execution_count": 28,
   "metadata": {},
   "outputs": [
    {
     "data": {
      "text/plain": [
       "{TopicPartition(topic='test', partition=0): 0}"
      ]
     },
     "execution_count": 28,
     "metadata": {},
     "output_type": "execute_result"
    }
   ],
   "source": [
    "consumer.beginning_offsets([tp])"
   ]
  },
  {
   "cell_type": "code",
   "execution_count": 29,
   "metadata": {},
   "outputs": [
    {
     "data": {
      "text/plain": [
       "{TopicPartition(topic='test', partition=0): 214480}"
      ]
     },
     "execution_count": 29,
     "metadata": {},
     "output_type": "execute_result"
    }
   ],
   "source": [
    "consumer.end_offsets([tp])"
   ]
  },
  {
   "cell_type": "code",
   "execution_count": 31,
   "metadata": {},
   "outputs": [],
   "source": [
    "consumer.seek(tp, 214479)"
   ]
  },
  {
   "cell_type": "code",
   "execution_count": 63,
   "metadata": {},
   "outputs": [],
   "source": [
    "for msg in consumer:\n",
    "    break"
   ]
  },
  {
   "cell_type": "code",
   "execution_count": 64,
   "metadata": {},
   "outputs": [
    {
     "data": {
      "text/plain": [
       "b'{\"schema\":{\"type\":\"struct\",\"optional\":false,\"fields\":[{\"type\":\"int32\",\"optional\":true,\"field\":\"timestamp\"},{\"type\":\"int32\",\"optional\":true,\"field\":\"order\"},{\"type\":\"string\",\"optional\":true,\"field\":\"operation\"},{\"type\":\"string\",\"optional\":true,\"field\":\"database\"},{\"type\":\"string\",\"optional\":true,\"field\":\"object\"}],\"name\":\"mongodbschema_mirth_YEuSnlikDh\"},\"payload\":{\"timestamp\":1549306230,\"order\":4,\"operation\":\"i\",\"database\":\"mirth.YEuSnlikDh\",\"object\":\"{\\\\\"_id\\\\\":{\\\\\"$oid\\\\\":\\\\\"5c5889764b4aef638b3918a8\\\\\"},\\\\\"address\\\\\":\\\\\"965 Rhodes Roads\\\\\\\\nNew Elizabeth, NH 78952\\\\\",\\\\\"birthdate\\\\\":\\\\\"1982-12-02\\\\\",\\\\\"blood_group\\\\\":\\\\\"O-\\\\\",\\\\\"company\\\\\":\\\\\"Smith, Harris and Aguirre\\\\\",\\\\\"counter\\\\\":10314,\\\\\"created\\\\\":\\\\\"2019-02-04T13:50:30.321766\\\\\",\\\\\"current_location\\\\\":[-5.5977115,-149.340818],\\\\\"job\\\\\":\\\\\"Horticulturist, commercial\\\\\",\\\\\"mail\\\\\":\\\\\"jacksondavid@hotmail.com\\\\\",\\\\\"name\\\\\":\\\\\"Craig Carter\\\\\",\\\\\"residence\\\\\":\\\\\"69643 Richard Village\\\\\\\\nAnthonychester, OH 37919\\\\\",\\\\\"sex\\\\\":\\\\\"M\\\\\",\\\\\"ssn\\\\\":\\\\\"765-58-8507\\\\\",\\\\\"username\\\\\":\\\\\"mbenson\\\\\",\\\\\"website\\\\\":[\\\\\"http://byrd.com/\\\\\",\\\\\"https://www.scott.com/\\\\\",\\\\\"https://www.clark-whitaker.com/\\\\\"]}\"}}'"
      ]
     },
     "execution_count": 64,
     "metadata": {},
     "output_type": "execute_result"
    }
   ],
   "source": [
    "msg.value"
   ]
  },
  {
   "cell_type": "code",
   "execution_count": 65,
   "metadata": {},
   "outputs": [],
   "source": [
    "import json"
   ]
  },
  {
   "cell_type": "code",
   "execution_count": 66,
   "metadata": {},
   "outputs": [],
   "source": [
    "d = json.loads(msg.value)"
   ]
  },
  {
   "cell_type": "code",
   "execution_count": 67,
   "metadata": {},
   "outputs": [
    {
     "data": {
      "text/plain": [
       "{'schema': {'type': 'struct',\n",
       "  'optional': False,\n",
       "  'fields': [{'type': 'int32', 'optional': True, 'field': 'timestamp'},\n",
       "   {'type': 'int32', 'optional': True, 'field': 'order'},\n",
       "   {'type': 'string', 'optional': True, 'field': 'operation'},\n",
       "   {'type': 'string', 'optional': True, 'field': 'database'},\n",
       "   {'type': 'string', 'optional': True, 'field': 'object'}],\n",
       "  'name': 'mongodbschema_mirth_YEuSnlikDh'},\n",
       " 'payload': {'timestamp': 1549306230,\n",
       "  'order': 4,\n",
       "  'operation': 'i',\n",
       "  'database': 'mirth.YEuSnlikDh',\n",
       "  'object': '{\"_id\":{\"$oid\":\"5c5889764b4aef638b3918a8\"},\"address\":\"965 Rhodes Roads\\\\nNew Elizabeth, NH 78952\",\"birthdate\":\"1982-12-02\",\"blood_group\":\"O-\",\"company\":\"Smith, Harris and Aguirre\",\"counter\":10314,\"created\":\"2019-02-04T13:50:30.321766\",\"current_location\":[-5.5977115,-149.340818],\"job\":\"Horticulturist, commercial\",\"mail\":\"jacksondavid@hotmail.com\",\"name\":\"Craig Carter\",\"residence\":\"69643 Richard Village\\\\nAnthonychester, OH 37919\",\"sex\":\"M\",\"ssn\":\"765-58-8507\",\"username\":\"mbenson\",\"website\":[\"http://byrd.com/\",\"https://www.scott.com/\",\"https://www.clark-whitaker.com/\"]}'}}"
      ]
     },
     "execution_count": 67,
     "metadata": {},
     "output_type": "execute_result"
    }
   ],
   "source": [
    "d"
   ]
  },
  {
   "cell_type": "code",
   "execution_count": 68,
   "metadata": {},
   "outputs": [
    {
     "data": {
      "text/plain": [
       "{'_id': {'$oid': '5c5889764b4aef638b3918a8'},\n",
       " 'address': '965 Rhodes Roads\\nNew Elizabeth, NH 78952',\n",
       " 'birthdate': '1982-12-02',\n",
       " 'blood_group': 'O-',\n",
       " 'company': 'Smith, Harris and Aguirre',\n",
       " 'counter': 10314,\n",
       " 'created': '2019-02-04T13:50:30.321766',\n",
       " 'current_location': [-5.5977115, -149.340818],\n",
       " 'job': 'Horticulturist, commercial',\n",
       " 'mail': 'jacksondavid@hotmail.com',\n",
       " 'name': 'Craig Carter',\n",
       " 'residence': '69643 Richard Village\\nAnthonychester, OH 37919',\n",
       " 'sex': 'M',\n",
       " 'ssn': '765-58-8507',\n",
       " 'username': 'mbenson',\n",
       " 'website': ['http://byrd.com/',\n",
       "  'https://www.scott.com/',\n",
       "  'https://www.clark-whitaker.com/']}"
      ]
     },
     "execution_count": 68,
     "metadata": {},
     "output_type": "execute_result"
    }
   ],
   "source": [
    "json.loads(d['payload']['object'])"
   ]
  },
  {
   "cell_type": "code",
   "execution_count": 40,
   "metadata": {},
   "outputs": [
    {
     "data": {
      "text/plain": [
       "{'coll': 'APYqkeyekg', 'db': 'mirth'}"
      ]
     },
     "execution_count": 40,
     "metadata": {},
     "output_type": "execute_result"
    }
   ],
   "source": [
    "d['ns']"
   ]
  },
  {
   "cell_type": "code",
   "execution_count": 52,
   "metadata": {},
   "outputs": [
    {
     "name": "stdout",
     "output_type": "stream",
     "text": [
      ".........|.........|.........|.........|.........|.........|.........|.........|.........|.........| 1000\n",
      ".........|.........|.........|.........|.........|.........|.........|.........|.........|.........| 2000\n",
      ".........|.........|.........|.........|.........|.........|.........|.........|.........|.........| 3000\n",
      ".........|.........|.........|.........|.........|.........|.........|.........|.........|.........| 4000\n",
      ".........|.........|.........|.........|.........|.........|.........|.........|.........|.........| 5000\n",
      ".........|.........|.........|.........|.........|.........|.........|.........|.........|.........| 6000\n",
      ".........|.........|.........|.........|.........|.........|.........|.........|.........|.........| 7000\n",
      ".........|.........|.........|.........|.........|.........|.........|.........|.........|.........| 8000\n",
      ".........|.........|.........|.........|.........|.........|.........|.........|.........|.........| 9000\n",
      ".........|.........|.........|.........|.........|.........|.........|.........|.........|.........| 10000\n",
      "."
     ]
    }
   ],
   "source": [
    "\n",
    "data = []\n",
    "counts = set()\n",
    "first = None\n",
    "\n",
    "for i, msg in enumerate(consumer, 1):\n",
    "    recieved_time = datetime.datetime.now()\n",
    "    if i % 100 == 0:\n",
    "        sys.stdout.write('|')\n",
    "    elif i % 10 == 0:\n",
    "        sys.stdout.write('.')\n",
    "    if i % 1000 == 0:\n",
    "        sys.stdout.write(f' {i}\\n')\n",
    "    doc = json.loads(msg.value)['fullDocument']\n",
    "    if first is None:\n",
    "        first = doc['counter']\n",
    "    if first <= doc['counter'] < first + 10000:\n",
    "        kafka_time = datetime.datetime.fromtimestamp(msg.timestamp / 1000)\n",
    "        created_time = datetime.datetime.strptime(doc['created'], '%Y-%m-%dT%H:%M:%S.%f')\n",
    "        data.append((created_time, kafka_time, recieved_time, doc['counter']))\n",
    "        counts.add(doc['counter'])\n",
    "        if len(counts) == 10000:\n",
    "            break"
   ]
  },
  {
   "cell_type": "code",
   "execution_count": 53,
   "metadata": {},
   "outputs": [
    {
     "data": {
      "text/plain": [
       "10000"
      ]
     },
     "execution_count": 53,
     "metadata": {},
     "output_type": "execute_result"
    }
   ],
   "source": [
    "len(data)"
   ]
  },
  {
   "cell_type": "code",
   "execution_count": 54,
   "metadata": {},
   "outputs": [
    {
     "data": {
      "text/plain": [
       "(datetime.datetime(2019, 2, 1, 9, 32, 19, 55006),\n",
       " datetime.datetime(2019, 2, 1, 9, 32, 19, 497000),\n",
       " datetime.datetime(2019, 2, 1, 9, 32, 19, 501059),\n",
       " 62401)"
      ]
     },
     "execution_count": 54,
     "metadata": {},
     "output_type": "execute_result"
    }
   ],
   "source": [
    "data[0]"
   ]
  },
  {
   "cell_type": "code",
   "execution_count": 55,
   "metadata": {},
   "outputs": [],
   "source": [
    "counts = [d[3] for d in data]"
   ]
  },
  {
   "cell_type": "code",
   "execution_count": 57,
   "metadata": {},
   "outputs": [
    {
     "data": {
      "text/plain": [
       "[62401, 62402, 62403, 62404, 62405, 62406, 62407, 62408, 62409, 62410]"
      ]
     },
     "execution_count": 57,
     "metadata": {},
     "output_type": "execute_result"
    }
   ],
   "source": [
    "sorted(counts)[:10]"
   ]
  },
  {
   "cell_type": "code",
   "execution_count": 58,
   "metadata": {},
   "outputs": [
    {
     "data": {
      "text/plain": [
       "[72391, 72392, 72393, 72394, 72395, 72396, 72397, 72398, 72399, 72400]"
      ]
     },
     "execution_count": 58,
     "metadata": {},
     "output_type": "execute_result"
    }
   ],
   "source": [
    "sorted(counts)[-10:]"
   ]
  },
  {
   "cell_type": "code",
   "execution_count": 59,
   "metadata": {},
   "outputs": [
    {
     "data": {
      "text/plain": [
       "(datetime.datetime(2019, 2, 1, 9, 33, 3, 205188),\n",
       " datetime.datetime(2019, 2, 1, 9, 33, 3, 723000),\n",
       " datetime.datetime(2019, 2, 1, 9, 33, 3, 731460),\n",
       " 72397)"
      ]
     },
     "execution_count": 59,
     "metadata": {},
     "output_type": "execute_result"
    }
   ],
   "source": [
    "data[-1]"
   ]
  },
  {
   "cell_type": "code",
   "execution_count": 29,
   "metadata": {},
   "outputs": [
    {
     "data": {
      "text/plain": [
       "datetime.datetime(2019, 1, 31, 17, 25, 3, 622541)"
      ]
     },
     "execution_count": 29,
     "metadata": {},
     "output_type": "execute_result"
    }
   ],
   "source": []
  },
  {
   "cell_type": "code",
   "execution_count": 15,
   "metadata": {},
   "outputs": [],
   "source": [
    "import datetime"
   ]
  },
  {
   "cell_type": "code",
   "execution_count": 19,
   "metadata": {},
   "outputs": [
    {
     "data": {
      "text/plain": [
       "datetime.datetime(2019, 1, 31, 17, 25, 3, 943000)"
      ]
     },
     "execution_count": 19,
     "metadata": {},
     "output_type": "execute_result"
    }
   ],
   "source": [
    "datetime.datetime.fromtimestamp(kafka_time/1000)"
   ]
  },
  {
   "cell_type": "code",
   "execution_count": null,
   "metadata": {},
   "outputs": [],
   "source": []
  }
 ],
 "metadata": {
  "kernelspec": {
   "display_name": "Python 3",
   "language": "python",
   "name": "python3"
  },
  "language_info": {
   "codemirror_mode": {
    "name": "ipython",
    "version": 3
   },
   "file_extension": ".py",
   "mimetype": "text/x-python",
   "name": "python",
   "nbconvert_exporter": "python",
   "pygments_lexer": "ipython3",
   "version": "3.6.7"
  }
 },
 "nbformat": 4,
 "nbformat_minor": 2
}
