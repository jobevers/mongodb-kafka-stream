{
 "cells": [
  {
   "cell_type": "code",
   "execution_count": 1,
   "metadata": {},
   "outputs": [],
   "source": [
    "import pymongo"
   ]
  },
  {
   "cell_type": "code",
   "execution_count": 2,
   "metadata": {},
   "outputs": [],
   "source": [
    "conn = pymongo.MongoClient('mongodb://localhost:27017/?replicaSet=rs0')"
   ]
  },
  {
   "cell_type": "code",
   "execution_count": 3,
   "metadata": {},
   "outputs": [],
   "source": [
    "db = conn.mirth"
   ]
  },
  {
   "cell_type": "code",
   "execution_count": 4,
   "metadata": {},
   "outputs": [],
   "source": [
    "import random\n",
    "import string"
   ]
  },
  {
   "cell_type": "code",
   "execution_count": 5,
   "metadata": {},
   "outputs": [],
   "source": [
    "def random_string(n):\n",
    "    return ''.join(random.choice(string.ascii_letters) for _ in range(n))"
   ]
  },
  {
   "cell_type": "code",
   "execution_count": 6,
   "metadata": {},
   "outputs": [],
   "source": [
    "collections = [random_string(10) for _ in range(100)]"
   ]
  },
  {
   "cell_type": "code",
   "execution_count": 7,
   "metadata": {},
   "outputs": [],
   "source": [
    "import faker"
   ]
  },
  {
   "cell_type": "code",
   "execution_count": 8,
   "metadata": {},
   "outputs": [],
   "source": [
    "fake = faker.Faker()"
   ]
  },
  {
   "cell_type": "code",
   "execution_count": 9,
   "metadata": {},
   "outputs": [
    {
     "data": {
      "text/plain": [
       "{'job': 'Chief Strategy Officer',\n",
       " 'company': 'Smith, Patrick and Hanna',\n",
       " 'ssn': '267-60-0340',\n",
       " 'residence': '057 Lauren Plaza Suite 160\\nPort Meganstad, OH 04140',\n",
       " 'current_location': (Decimal('-82.360104'), Decimal('173.881580')),\n",
       " 'blood_group': 'B-',\n",
       " 'website': ['http://peters.com/',\n",
       "  'https://shannon.biz/',\n",
       "  'http://www.mitchell.info/'],\n",
       " 'username': 'rsmith',\n",
       " 'name': 'Lindsey Holland',\n",
       " 'sex': 'F',\n",
       " 'address': '302 Brown Knolls\\nConleyshire, NM 82885',\n",
       " 'mail': 'dianaprice@yahoo.com',\n",
       " 'birthdate': datetime.date(2015, 10, 27)}"
      ]
     },
     "execution_count": 9,
     "metadata": {},
     "output_type": "execute_result"
    }
   ],
   "source": [
    "fake.profile()"
   ]
  },
  {
   "cell_type": "code",
   "execution_count": 10,
   "metadata": {},
   "outputs": [],
   "source": [
    "import time"
   ]
  },
  {
   "cell_type": "code",
   "execution_count": 11,
   "metadata": {},
   "outputs": [],
   "source": [
    "import datetime"
   ]
  },
  {
   "cell_type": "code",
   "execution_count": 12,
   "metadata": {},
   "outputs": [],
   "source": [
    "counter = 1"
   ]
  },
  {
   "cell_type": "code",
   "execution_count": 13,
   "metadata": {},
   "outputs": [],
   "source": [
    "def get_profile():\n",
    "    global counter\n",
    "    profile = fake.profile()\n",
    "    profile['current_location'] = [float(v) for v in profile['current_location']]\n",
    "    profile['birthdate'] = profile['birthdate'].isoformat()\n",
    "    profile['created'] = datetime.datetime.now().isoformat()\n",
    "    profile['counter'] = counter\n",
    "    counter += 1\n",
    "    return profile"
   ]
  },
  {
   "cell_type": "code",
   "execution_count": 19,
   "metadata": {},
   "outputs": [],
   "source": [
    "for _ in range(100):\n",
    "    collection = random.choice(collections)\n",
    "    db[collection].insert_one(get_profile())\n",
    "    time.sleep(random.random()*0.001)"
   ]
  },
  {
   "cell_type": "code",
   "execution_count": null,
   "metadata": {},
   "outputs": [],
   "source": []
  }
 ],
 "metadata": {
  "kernelspec": {
   "display_name": "Python 3",
   "language": "python",
   "name": "python3"
  },
  "language_info": {
   "codemirror_mode": {
    "name": "ipython",
    "version": 3
   },
   "file_extension": ".py",
   "mimetype": "text/x-python",
   "name": "python",
   "nbconvert_exporter": "python",
   "pygments_lexer": "ipython3",
   "version": "3.6.7"
  }
 },
 "nbformat": 4,
 "nbformat_minor": 2
}
